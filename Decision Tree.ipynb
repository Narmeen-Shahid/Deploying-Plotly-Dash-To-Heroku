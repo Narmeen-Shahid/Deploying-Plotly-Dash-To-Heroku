{
 "cells": [
  {
   "cell_type": "code",
   "execution_count": 1,
   "metadata": {},
   "outputs": [],
   "source": [
    "import numpy as np\n",
    "import matplotlib.pyplot as plt \n",
    "import pandas as pd"
   ]
  },
  {
   "cell_type": "code",
   "execution_count": 2,
   "metadata": {},
   "outputs": [],
   "source": [
    "insurance = pd.read_csv(\"insurance_75000.csv\",encoding='latin1')"
   ]
  },
  {
   "cell_type": "code",
   "execution_count": 3,
   "metadata": {
    "scrolled": true
   },
   "outputs": [
    {
     "data": {
      "text/html": [
       "<div>\n",
       "<style scoped>\n",
       "    .dataframe tbody tr th:only-of-type {\n",
       "        vertical-align: middle;\n",
       "    }\n",
       "\n",
       "    .dataframe tbody tr th {\n",
       "        vertical-align: top;\n",
       "    }\n",
       "\n",
       "    .dataframe thead th {\n",
       "        text-align: right;\n",
       "    }\n",
       "</style>\n",
       "<table border=\"1\" class=\"dataframe\">\n",
       "  <thead>\n",
       "    <tr style=\"text-align: right;\">\n",
       "      <th></th>\n",
       "      <th>VehicleReg</th>\n",
       "      <th>CustomerName</th>\n",
       "      <th>Premium</th>\n",
       "      <th>Package</th>\n",
       "      <th>AddonDate</th>\n",
       "      <th>Make</th>\n",
       "      <th>Model</th>\n",
       "      <th>CC</th>\n",
       "      <th>GearType</th>\n",
       "      <th>Gender</th>\n",
       "      <th>...</th>\n",
       "      <th>VehicleWidth</th>\n",
       "      <th>VehicleHeight</th>\n",
       "      <th>FuelType</th>\n",
       "      <th>BrakeOperation</th>\n",
       "      <th>AvgFuelConsumption</th>\n",
       "      <th>StatusText</th>\n",
       "      <th>Speed</th>\n",
       "      <th>Odo</th>\n",
       "      <th>AssembledDate</th>\n",
       "      <th>Place</th>\n",
       "    </tr>\n",
       "  </thead>\n",
       "  <tbody>\n",
       "    <tr>\n",
       "      <th>0</th>\n",
       "      <td>V62</td>\n",
       "      <td>C62</td>\n",
       "      <td>34000</td>\n",
       "      <td>Insured</td>\n",
       "      <td>2018-08-11 17:18:27.163000000</td>\n",
       "      <td>Suzuki</td>\n",
       "      <td>2016</td>\n",
       "      <td>1300</td>\n",
       "      <td>Auto</td>\n",
       "      <td>M</td>\n",
       "      <td>...</td>\n",
       "      <td>5</td>\n",
       "      <td>3</td>\n",
       "      <td>Petrol</td>\n",
       "      <td>ABS</td>\n",
       "      <td>11</td>\n",
       "      <td>Driving</td>\n",
       "      <td>27</td>\n",
       "      <td>97.8</td>\n",
       "      <td>7/7/2018 12:29</td>\n",
       "      <td>1.13 km SW of Shell Akhter Shireen F/S Lachi K...</td>\n",
       "    </tr>\n",
       "    <tr>\n",
       "      <th>1</th>\n",
       "      <td>V62</td>\n",
       "      <td>C62</td>\n",
       "      <td>34000</td>\n",
       "      <td>Insured</td>\n",
       "      <td>2018-08-11 17:18:27.163000000</td>\n",
       "      <td>Suzuki</td>\n",
       "      <td>2016</td>\n",
       "      <td>1300</td>\n",
       "      <td>Auto</td>\n",
       "      <td>M</td>\n",
       "      <td>...</td>\n",
       "      <td>5</td>\n",
       "      <td>3</td>\n",
       "      <td>Petrol</td>\n",
       "      <td>ABS</td>\n",
       "      <td>11</td>\n",
       "      <td>Harsh Acceleration</td>\n",
       "      <td>26</td>\n",
       "      <td>97.8</td>\n",
       "      <td>7/7/2018 12:29</td>\n",
       "      <td>1.14 km SW of Shell Akhter Shireen F/S Lachi K...</td>\n",
       "    </tr>\n",
       "    <tr>\n",
       "      <th>2</th>\n",
       "      <td>V62</td>\n",
       "      <td>C62</td>\n",
       "      <td>34000</td>\n",
       "      <td>Insured</td>\n",
       "      <td>2018-08-11 17:18:27.163000000</td>\n",
       "      <td>Suzuki</td>\n",
       "      <td>2016</td>\n",
       "      <td>1300</td>\n",
       "      <td>Auto</td>\n",
       "      <td>M</td>\n",
       "      <td>...</td>\n",
       "      <td>5</td>\n",
       "      <td>3</td>\n",
       "      <td>Petrol</td>\n",
       "      <td>ABS</td>\n",
       "      <td>11</td>\n",
       "      <td>Harsh Acceleration</td>\n",
       "      <td>22</td>\n",
       "      <td>97.9</td>\n",
       "      <td>7/7/2018 12:29</td>\n",
       "      <td>1.17 km SW of Shell Akhter Shireen F/S Lachi K...</td>\n",
       "    </tr>\n",
       "    <tr>\n",
       "      <th>3</th>\n",
       "      <td>V62</td>\n",
       "      <td>C62</td>\n",
       "      <td>34000</td>\n",
       "      <td>Insured</td>\n",
       "      <td>2018-08-11 17:18:27.163000000</td>\n",
       "      <td>Suzuki</td>\n",
       "      <td>2016</td>\n",
       "      <td>1300</td>\n",
       "      <td>Auto</td>\n",
       "      <td>M</td>\n",
       "      <td>...</td>\n",
       "      <td>5</td>\n",
       "      <td>3</td>\n",
       "      <td>Petrol</td>\n",
       "      <td>ABS</td>\n",
       "      <td>11</td>\n",
       "      <td>Harsh Acceleration</td>\n",
       "      <td>18</td>\n",
       "      <td>98.0</td>\n",
       "      <td>7/7/2018 12:29</td>\n",
       "      <td>1.2 km SW of Shell Akhter Shireen F/S Lachi Ko...</td>\n",
       "    </tr>\n",
       "    <tr>\n",
       "      <th>4</th>\n",
       "      <td>V62</td>\n",
       "      <td>C62</td>\n",
       "      <td>34000</td>\n",
       "      <td>Insured</td>\n",
       "      <td>2018-08-11 17:18:27.163000000</td>\n",
       "      <td>Suzuki</td>\n",
       "      <td>2016</td>\n",
       "      <td>1300</td>\n",
       "      <td>Auto</td>\n",
       "      <td>M</td>\n",
       "      <td>...</td>\n",
       "      <td>5</td>\n",
       "      <td>3</td>\n",
       "      <td>Petrol</td>\n",
       "      <td>ABS</td>\n",
       "      <td>11</td>\n",
       "      <td>Harsh Acceleration</td>\n",
       "      <td>22</td>\n",
       "      <td>98.0</td>\n",
       "      <td>7/7/2018 12:29</td>\n",
       "      <td>1.22 km SW of Shell Akhter Shireen F/S Lachi K...</td>\n",
       "    </tr>\n",
       "  </tbody>\n",
       "</table>\n",
       "<p>5 rows × 22 columns</p>\n",
       "</div>"
      ],
      "text/plain": [
       "  VehicleReg CustomerName  Premium  Package                      AddonDate  \\\n",
       "0        V62          C62    34000  Insured  2018-08-11 17:18:27.163000000   \n",
       "1        V62          C62    34000  Insured  2018-08-11 17:18:27.163000000   \n",
       "2        V62          C62    34000  Insured  2018-08-11 17:18:27.163000000   \n",
       "3        V62          C62    34000  Insured  2018-08-11 17:18:27.163000000   \n",
       "4        V62          C62    34000  Insured  2018-08-11 17:18:27.163000000   \n",
       "\n",
       "     Make  Model    CC GearType      Gender  ... VehicleWidth VehicleHeight  \\\n",
       "0  Suzuki   2016  1300     Auto  M           ...            5             3   \n",
       "1  Suzuki   2016  1300     Auto  M           ...            5             3   \n",
       "2  Suzuki   2016  1300     Auto  M           ...            5             3   \n",
       "3  Suzuki   2016  1300     Auto  M           ...            5             3   \n",
       "4  Suzuki   2016  1300     Auto  M           ...            5             3   \n",
       "\n",
       "   FuelType  BrakeOperation AvgFuelConsumption          StatusText  Speed  \\\n",
       "0    Petrol             ABS                 11             Driving     27   \n",
       "1    Petrol             ABS                 11  Harsh Acceleration     26   \n",
       "2    Petrol             ABS                 11  Harsh Acceleration     22   \n",
       "3    Petrol             ABS                 11  Harsh Acceleration     18   \n",
       "4    Petrol             ABS                 11  Harsh Acceleration     22   \n",
       "\n",
       "    Odo   AssembledDate                                              Place  \n",
       "0  97.8  7/7/2018 12:29  1.13 km SW of Shell Akhter Shireen F/S Lachi K...  \n",
       "1  97.8  7/7/2018 12:29  1.14 km SW of Shell Akhter Shireen F/S Lachi K...  \n",
       "2  97.9  7/7/2018 12:29  1.17 km SW of Shell Akhter Shireen F/S Lachi K...  \n",
       "3  98.0  7/7/2018 12:29  1.2 km SW of Shell Akhter Shireen F/S Lachi Ko...  \n",
       "4  98.0  7/7/2018 12:29  1.22 km SW of Shell Akhter Shireen F/S Lachi K...  \n",
       "\n",
       "[5 rows x 22 columns]"
      ]
     },
     "execution_count": 3,
     "metadata": {},
     "output_type": "execute_result"
    }
   ],
   "source": [
    "insurance.head()"
   ]
  },
  {
   "cell_type": "code",
   "execution_count": 5,
   "metadata": {},
   "outputs": [],
   "source": [
    "###Label encoder "
   ]
  },
  {
   "cell_type": "code",
   "execution_count": 4,
   "metadata": {},
   "outputs": [],
   "source": [
    "from sklearn.preprocessing import LabelEncoder"
   ]
  },
  {
   "cell_type": "code",
   "execution_count": 5,
   "metadata": {},
   "outputs": [],
   "source": [
    "le_VehicleType=LabelEncoder()\n",
    "le_Address=LabelEncoder()\n",
    "le_Gender=LabelEncoder()\n",
    "le_GearType=LabelEncoder()\n",
    "le_Make=LabelEncoder()\n",
    "le_AddonDate=LabelEncoder()\n",
    "le_Package=LabelEncoder()\n",
    "le_CustomerName=LabelEncoder()\n",
    "le_VehicleReg=LabelEncoder()\n",
    "\n",
    "\n",
    "le_FuelType=LabelEncoder()\n",
    "le_BrakeOperation=LabelEncoder()\n",
    "le_StatusText=LabelEncoder()\n",
    "le_AssembledDate=LabelEncoder()\n",
    "le_Place=LabelEncoder()\n",
    "\n",
    "insurance['BrakeOperation_n']=le_BrakeOperation.fit_transform(insurance['BrakeOperation'])\n",
    "insurance['FuelType_n']=le_FuelType.fit_transform(insurance['FuelType'])\n",
    "insurance['VehicleType_n']=le_VehicleType.fit_transform(insurance['VehicleType'])\n",
    "insurance['Address_n']=le_Address.fit_transform(insurance['Address'])\n",
    "insurance['Gender_n']=le_Gender.fit_transform(insurance['Gender'])\n",
    "insurance['GearType_n']=le_GearType.fit_transform(insurance['GearType'])\n",
    "insurance['Make_n']=le_Make.fit_transform(insurance['Make'])\n",
    "insurance['AddonDate_n']=le_AddonDate.fit_transform(insurance['AddonDate'])\n",
    "insurance['Package_n']=le_Package.fit_transform(insurance['Package'])\n",
    "insurance['CustomerName_n']=le_CustomerName.fit_transform(insurance['CustomerName'])\n",
    "insurance['VehicleReg_n']=le_VehicleReg.fit_transform(insurance['VehicleReg'])\n",
    "\n",
    "\n",
    "insurance['StatusText_n']=le_StatusText.fit_transform(insurance['StatusText'])\n",
    "insurance['AssembledDate_n']=le_AssembledDate.fit_transform(insurance['AssembledDate'])\n",
    "insurance['Place_n']=le_Place.fit_transform(insurance['Place'])\n"
   ]
  },
  {
   "cell_type": "code",
   "execution_count": 6,
   "metadata": {},
   "outputs": [
    {
     "data": {
      "text/html": [
       "<div>\n",
       "<style scoped>\n",
       "    .dataframe tbody tr th:only-of-type {\n",
       "        vertical-align: middle;\n",
       "    }\n",
       "\n",
       "    .dataframe tbody tr th {\n",
       "        vertical-align: top;\n",
       "    }\n",
       "\n",
       "    .dataframe thead th {\n",
       "        text-align: right;\n",
       "    }\n",
       "</style>\n",
       "<table border=\"1\" class=\"dataframe\">\n",
       "  <thead>\n",
       "    <tr style=\"text-align: right;\">\n",
       "      <th></th>\n",
       "      <th>VehicleReg</th>\n",
       "      <th>CustomerName</th>\n",
       "      <th>Premium</th>\n",
       "      <th>Package</th>\n",
       "      <th>AddonDate</th>\n",
       "      <th>Make</th>\n",
       "      <th>Model</th>\n",
       "      <th>CC</th>\n",
       "      <th>GearType</th>\n",
       "      <th>Gender</th>\n",
       "      <th>...</th>\n",
       "      <th>Gender_n</th>\n",
       "      <th>GearType_n</th>\n",
       "      <th>Make_n</th>\n",
       "      <th>AddonDate_n</th>\n",
       "      <th>Package_n</th>\n",
       "      <th>CustomerName_n</th>\n",
       "      <th>VehicleReg_n</th>\n",
       "      <th>StatusText_n</th>\n",
       "      <th>AssembledDate_n</th>\n",
       "      <th>Place_n</th>\n",
       "    </tr>\n",
       "  </thead>\n",
       "  <tbody>\n",
       "    <tr>\n",
       "      <th>0</th>\n",
       "      <td>V62</td>\n",
       "      <td>C62</td>\n",
       "      <td>34000</td>\n",
       "      <td>Insured</td>\n",
       "      <td>2018-08-11 17:18:27.163000000</td>\n",
       "      <td>Suzuki</td>\n",
       "      <td>2016</td>\n",
       "      <td>1300</td>\n",
       "      <td>Auto</td>\n",
       "      <td>M</td>\n",
       "      <td>...</td>\n",
       "      <td>1</td>\n",
       "      <td>0</td>\n",
       "      <td>0</td>\n",
       "      <td>22</td>\n",
       "      <td>0</td>\n",
       "      <td>18</td>\n",
       "      <td>18</td>\n",
       "      <td>0</td>\n",
       "      <td>2899</td>\n",
       "      <td>14117</td>\n",
       "    </tr>\n",
       "    <tr>\n",
       "      <th>1</th>\n",
       "      <td>V62</td>\n",
       "      <td>C62</td>\n",
       "      <td>34000</td>\n",
       "      <td>Insured</td>\n",
       "      <td>2018-08-11 17:18:27.163000000</td>\n",
       "      <td>Suzuki</td>\n",
       "      <td>2016</td>\n",
       "      <td>1300</td>\n",
       "      <td>Auto</td>\n",
       "      <td>M</td>\n",
       "      <td>...</td>\n",
       "      <td>1</td>\n",
       "      <td>0</td>\n",
       "      <td>0</td>\n",
       "      <td>22</td>\n",
       "      <td>0</td>\n",
       "      <td>18</td>\n",
       "      <td>18</td>\n",
       "      <td>16</td>\n",
       "      <td>2899</td>\n",
       "      <td>14187</td>\n",
       "    </tr>\n",
       "    <tr>\n",
       "      <th>2</th>\n",
       "      <td>V62</td>\n",
       "      <td>C62</td>\n",
       "      <td>34000</td>\n",
       "      <td>Insured</td>\n",
       "      <td>2018-08-11 17:18:27.163000000</td>\n",
       "      <td>Suzuki</td>\n",
       "      <td>2016</td>\n",
       "      <td>1300</td>\n",
       "      <td>Auto</td>\n",
       "      <td>M</td>\n",
       "      <td>...</td>\n",
       "      <td>1</td>\n",
       "      <td>0</td>\n",
       "      <td>0</td>\n",
       "      <td>22</td>\n",
       "      <td>0</td>\n",
       "      <td>18</td>\n",
       "      <td>18</td>\n",
       "      <td>16</td>\n",
       "      <td>2899</td>\n",
       "      <td>14381</td>\n",
       "    </tr>\n",
       "    <tr>\n",
       "      <th>3</th>\n",
       "      <td>V62</td>\n",
       "      <td>C62</td>\n",
       "      <td>34000</td>\n",
       "      <td>Insured</td>\n",
       "      <td>2018-08-11 17:18:27.163000000</td>\n",
       "      <td>Suzuki</td>\n",
       "      <td>2016</td>\n",
       "      <td>1300</td>\n",
       "      <td>Auto</td>\n",
       "      <td>M</td>\n",
       "      <td>...</td>\n",
       "      <td>1</td>\n",
       "      <td>0</td>\n",
       "      <td>0</td>\n",
       "      <td>22</td>\n",
       "      <td>0</td>\n",
       "      <td>18</td>\n",
       "      <td>18</td>\n",
       "      <td>16</td>\n",
       "      <td>2899</td>\n",
       "      <td>14553</td>\n",
       "    </tr>\n",
       "    <tr>\n",
       "      <th>4</th>\n",
       "      <td>V62</td>\n",
       "      <td>C62</td>\n",
       "      <td>34000</td>\n",
       "      <td>Insured</td>\n",
       "      <td>2018-08-11 17:18:27.163000000</td>\n",
       "      <td>Suzuki</td>\n",
       "      <td>2016</td>\n",
       "      <td>1300</td>\n",
       "      <td>Auto</td>\n",
       "      <td>M</td>\n",
       "      <td>...</td>\n",
       "      <td>1</td>\n",
       "      <td>0</td>\n",
       "      <td>0</td>\n",
       "      <td>22</td>\n",
       "      <td>0</td>\n",
       "      <td>18</td>\n",
       "      <td>18</td>\n",
       "      <td>16</td>\n",
       "      <td>2899</td>\n",
       "      <td>14672</td>\n",
       "    </tr>\n",
       "  </tbody>\n",
       "</table>\n",
       "<p>5 rows × 36 columns</p>\n",
       "</div>"
      ],
      "text/plain": [
       "  VehicleReg CustomerName  Premium  Package                      AddonDate  \\\n",
       "0        V62          C62    34000  Insured  2018-08-11 17:18:27.163000000   \n",
       "1        V62          C62    34000  Insured  2018-08-11 17:18:27.163000000   \n",
       "2        V62          C62    34000  Insured  2018-08-11 17:18:27.163000000   \n",
       "3        V62          C62    34000  Insured  2018-08-11 17:18:27.163000000   \n",
       "4        V62          C62    34000  Insured  2018-08-11 17:18:27.163000000   \n",
       "\n",
       "     Make  Model    CC GearType      Gender  ... Gender_n GearType_n  Make_n  \\\n",
       "0  Suzuki   2016  1300     Auto  M           ...        1          0       0   \n",
       "1  Suzuki   2016  1300     Auto  M           ...        1          0       0   \n",
       "2  Suzuki   2016  1300     Auto  M           ...        1          0       0   \n",
       "3  Suzuki   2016  1300     Auto  M           ...        1          0       0   \n",
       "4  Suzuki   2016  1300     Auto  M           ...        1          0       0   \n",
       "\n",
       "   AddonDate_n Package_n CustomerName_n  VehicleReg_n StatusText_n  \\\n",
       "0           22         0             18            18            0   \n",
       "1           22         0             18            18           16   \n",
       "2           22         0             18            18           16   \n",
       "3           22         0             18            18           16   \n",
       "4           22         0             18            18           16   \n",
       "\n",
       "   AssembledDate_n  Place_n  \n",
       "0             2899    14117  \n",
       "1             2899    14187  \n",
       "2             2899    14381  \n",
       "3             2899    14553  \n",
       "4             2899    14672  \n",
       "\n",
       "[5 rows x 36 columns]"
      ]
     },
     "execution_count": 6,
     "metadata": {},
     "output_type": "execute_result"
    }
   ],
   "source": [
    "insurance.head()"
   ]
  },
  {
   "cell_type": "code",
   "execution_count": 7,
   "metadata": {
    "scrolled": true
   },
   "outputs": [],
   "source": [
    "insurance.drop(['Place','AssembledDate','StatusText','VehicleReg','CustomerName','AddonDate','Package','Make','GearType','Gender','Address','VehicleType','FuelType','BrakeOperation'],axis=1,inplace=True)"
   ]
  },
  {
   "cell_type": "code",
   "execution_count": 8,
   "metadata": {
    "scrolled": true
   },
   "outputs": [
    {
     "name": "stdout",
     "output_type": "stream",
     "text": [
      "<class 'pandas.core.frame.DataFrame'>\n",
      "RangeIndex: 75000 entries, 0 to 74999\n",
      "Data columns (total 22 columns):\n",
      "Premium               75000 non-null int64\n",
      "Model                 75000 non-null int64\n",
      "CC                    75000 non-null int64\n",
      "VehicleWidth          75000 non-null int64\n",
      "VehicleHeight         75000 non-null int64\n",
      "AvgFuelConsumption    75000 non-null int64\n",
      "Speed                 75000 non-null int64\n",
      "Odo                   75000 non-null float64\n",
      "BrakeOperation_n      75000 non-null int64\n",
      "FuelType_n            75000 non-null int64\n",
      "VehicleType_n         75000 non-null int64\n",
      "Address_n             75000 non-null int64\n",
      "Gender_n              75000 non-null int64\n",
      "GearType_n            75000 non-null int64\n",
      "Make_n                75000 non-null int64\n",
      "AddonDate_n           75000 non-null int64\n",
      "Package_n             75000 non-null int64\n",
      "CustomerName_n        75000 non-null int64\n",
      "VehicleReg_n          75000 non-null int64\n",
      "StatusText_n          75000 non-null int64\n",
      "AssembledDate_n       75000 non-null int64\n",
      "Place_n               75000 non-null int64\n",
      "dtypes: float64(1), int64(21)\n",
      "memory usage: 12.6 MB\n"
     ]
    }
   ],
   "source": [
    "insurance.info()"
   ]
  },
  {
   "cell_type": "code",
   "execution_count": 9,
   "metadata": {},
   "outputs": [
    {
     "ename": "KeyError",
     "evalue": "\"['Place' 'AssembledDate' 'StatusText' 'VehicleReg' 'CustomerName'\\n 'AddonDate' 'Package' 'Make' 'GearType' 'Gender' 'Address' 'VehicleType'\\n 'FuelType' 'BrakeOperation'] not found in axis\"",
     "output_type": "error",
     "traceback": [
      "\u001b[0;31m---------------------------------------------------------------------------\u001b[0m",
      "\u001b[0;31mKeyError\u001b[0m                                  Traceback (most recent call last)",
      "\u001b[0;32m<ipython-input-9-7224f826eb3e>\u001b[0m in \u001b[0;36m<module>\u001b[0;34m\u001b[0m\n\u001b[0;32m----> 1\u001b[0;31m \u001b[0minsurance\u001b[0m\u001b[0;34m.\u001b[0m\u001b[0mdrop\u001b[0m\u001b[0;34m(\u001b[0m\u001b[0;34m[\u001b[0m\u001b[0;34m'Place'\u001b[0m\u001b[0;34m,\u001b[0m\u001b[0;34m'AssembledDate'\u001b[0m\u001b[0;34m,\u001b[0m\u001b[0;34m'StatusText'\u001b[0m\u001b[0;34m,\u001b[0m\u001b[0;34m'VehicleReg'\u001b[0m\u001b[0;34m,\u001b[0m\u001b[0;34m'CustomerName'\u001b[0m\u001b[0;34m,\u001b[0m\u001b[0;34m'AddonDate'\u001b[0m\u001b[0;34m,\u001b[0m\u001b[0;34m'Package'\u001b[0m\u001b[0;34m,\u001b[0m\u001b[0;34m'Make'\u001b[0m\u001b[0;34m,\u001b[0m\u001b[0;34m'GearType'\u001b[0m\u001b[0;34m,\u001b[0m\u001b[0;34m'Gender'\u001b[0m\u001b[0;34m,\u001b[0m\u001b[0;34m'Address'\u001b[0m\u001b[0;34m,\u001b[0m\u001b[0;34m'VehicleType'\u001b[0m\u001b[0;34m,\u001b[0m\u001b[0;34m'FuelType'\u001b[0m\u001b[0;34m,\u001b[0m\u001b[0;34m'BrakeOperation'\u001b[0m\u001b[0;34m]\u001b[0m\u001b[0;34m,\u001b[0m\u001b[0maxis\u001b[0m\u001b[0;34m=\u001b[0m\u001b[0;36m1\u001b[0m\u001b[0;34m,\u001b[0m\u001b[0minplace\u001b[0m\u001b[0;34m=\u001b[0m\u001b[0;32mTrue\u001b[0m\u001b[0;34m)\u001b[0m\u001b[0;34m\u001b[0m\u001b[0m\n\u001b[0m",
      "\u001b[0;32m/usr/local/lib64/python3.7/site-packages/pandas/core/frame.py\u001b[0m in \u001b[0;36mdrop\u001b[0;34m(self, labels, axis, index, columns, level, inplace, errors)\u001b[0m\n\u001b[1;32m   3938\u001b[0m                                            \u001b[0mindex\u001b[0m\u001b[0;34m=\u001b[0m\u001b[0mindex\u001b[0m\u001b[0;34m,\u001b[0m \u001b[0mcolumns\u001b[0m\u001b[0;34m=\u001b[0m\u001b[0mcolumns\u001b[0m\u001b[0;34m,\u001b[0m\u001b[0;34m\u001b[0m\u001b[0m\n\u001b[1;32m   3939\u001b[0m                                            \u001b[0mlevel\u001b[0m\u001b[0;34m=\u001b[0m\u001b[0mlevel\u001b[0m\u001b[0;34m,\u001b[0m \u001b[0minplace\u001b[0m\u001b[0;34m=\u001b[0m\u001b[0minplace\u001b[0m\u001b[0;34m,\u001b[0m\u001b[0;34m\u001b[0m\u001b[0m\n\u001b[0;32m-> 3940\u001b[0;31m                                            errors=errors)\n\u001b[0m\u001b[1;32m   3941\u001b[0m \u001b[0;34m\u001b[0m\u001b[0m\n\u001b[1;32m   3942\u001b[0m     @rewrite_axis_style_signature('mapper', [('copy', True),\n",
      "\u001b[0;32m/usr/local/lib64/python3.7/site-packages/pandas/core/generic.py\u001b[0m in \u001b[0;36mdrop\u001b[0;34m(self, labels, axis, index, columns, level, inplace, errors)\u001b[0m\n\u001b[1;32m   3778\u001b[0m         \u001b[0;32mfor\u001b[0m \u001b[0maxis\u001b[0m\u001b[0;34m,\u001b[0m \u001b[0mlabels\u001b[0m \u001b[0;32min\u001b[0m \u001b[0maxes\u001b[0m\u001b[0;34m.\u001b[0m\u001b[0mitems\u001b[0m\u001b[0;34m(\u001b[0m\u001b[0;34m)\u001b[0m\u001b[0;34m:\u001b[0m\u001b[0;34m\u001b[0m\u001b[0m\n\u001b[1;32m   3779\u001b[0m             \u001b[0;32mif\u001b[0m \u001b[0mlabels\u001b[0m \u001b[0;32mis\u001b[0m \u001b[0;32mnot\u001b[0m \u001b[0;32mNone\u001b[0m\u001b[0;34m:\u001b[0m\u001b[0;34m\u001b[0m\u001b[0m\n\u001b[0;32m-> 3780\u001b[0;31m                 \u001b[0mobj\u001b[0m \u001b[0;34m=\u001b[0m \u001b[0mobj\u001b[0m\u001b[0;34m.\u001b[0m\u001b[0m_drop_axis\u001b[0m\u001b[0;34m(\u001b[0m\u001b[0mlabels\u001b[0m\u001b[0;34m,\u001b[0m \u001b[0maxis\u001b[0m\u001b[0;34m,\u001b[0m \u001b[0mlevel\u001b[0m\u001b[0;34m=\u001b[0m\u001b[0mlevel\u001b[0m\u001b[0;34m,\u001b[0m \u001b[0merrors\u001b[0m\u001b[0;34m=\u001b[0m\u001b[0merrors\u001b[0m\u001b[0;34m)\u001b[0m\u001b[0;34m\u001b[0m\u001b[0m\n\u001b[0m\u001b[1;32m   3781\u001b[0m \u001b[0;34m\u001b[0m\u001b[0m\n\u001b[1;32m   3782\u001b[0m         \u001b[0;32mif\u001b[0m \u001b[0minplace\u001b[0m\u001b[0;34m:\u001b[0m\u001b[0;34m\u001b[0m\u001b[0m\n",
      "\u001b[0;32m/usr/local/lib64/python3.7/site-packages/pandas/core/generic.py\u001b[0m in \u001b[0;36m_drop_axis\u001b[0;34m(self, labels, axis, level, errors)\u001b[0m\n\u001b[1;32m   3810\u001b[0m                 \u001b[0mnew_axis\u001b[0m \u001b[0;34m=\u001b[0m \u001b[0maxis\u001b[0m\u001b[0;34m.\u001b[0m\u001b[0mdrop\u001b[0m\u001b[0;34m(\u001b[0m\u001b[0mlabels\u001b[0m\u001b[0;34m,\u001b[0m \u001b[0mlevel\u001b[0m\u001b[0;34m=\u001b[0m\u001b[0mlevel\u001b[0m\u001b[0;34m,\u001b[0m \u001b[0merrors\u001b[0m\u001b[0;34m=\u001b[0m\u001b[0merrors\u001b[0m\u001b[0;34m)\u001b[0m\u001b[0;34m\u001b[0m\u001b[0m\n\u001b[1;32m   3811\u001b[0m             \u001b[0;32melse\u001b[0m\u001b[0;34m:\u001b[0m\u001b[0;34m\u001b[0m\u001b[0m\n\u001b[0;32m-> 3812\u001b[0;31m                 \u001b[0mnew_axis\u001b[0m \u001b[0;34m=\u001b[0m \u001b[0maxis\u001b[0m\u001b[0;34m.\u001b[0m\u001b[0mdrop\u001b[0m\u001b[0;34m(\u001b[0m\u001b[0mlabels\u001b[0m\u001b[0;34m,\u001b[0m \u001b[0merrors\u001b[0m\u001b[0;34m=\u001b[0m\u001b[0merrors\u001b[0m\u001b[0;34m)\u001b[0m\u001b[0;34m\u001b[0m\u001b[0m\n\u001b[0m\u001b[1;32m   3813\u001b[0m             \u001b[0mresult\u001b[0m \u001b[0;34m=\u001b[0m \u001b[0mself\u001b[0m\u001b[0;34m.\u001b[0m\u001b[0mreindex\u001b[0m\u001b[0;34m(\u001b[0m\u001b[0;34m**\u001b[0m\u001b[0;34m{\u001b[0m\u001b[0maxis_name\u001b[0m\u001b[0;34m:\u001b[0m \u001b[0mnew_axis\u001b[0m\u001b[0;34m}\u001b[0m\u001b[0;34m)\u001b[0m\u001b[0;34m\u001b[0m\u001b[0m\n\u001b[1;32m   3814\u001b[0m \u001b[0;34m\u001b[0m\u001b[0m\n",
      "\u001b[0;32m/usr/local/lib64/python3.7/site-packages/pandas/core/indexes/base.py\u001b[0m in \u001b[0;36mdrop\u001b[0;34m(self, labels, errors)\u001b[0m\n\u001b[1;32m   4963\u001b[0m             \u001b[0;32mif\u001b[0m \u001b[0merrors\u001b[0m \u001b[0;34m!=\u001b[0m \u001b[0;34m'ignore'\u001b[0m\u001b[0;34m:\u001b[0m\u001b[0;34m\u001b[0m\u001b[0m\n\u001b[1;32m   4964\u001b[0m                 raise KeyError(\n\u001b[0;32m-> 4965\u001b[0;31m                     '{} not found in axis'.format(labels[mask]))\n\u001b[0m\u001b[1;32m   4966\u001b[0m             \u001b[0mindexer\u001b[0m \u001b[0;34m=\u001b[0m \u001b[0mindexer\u001b[0m\u001b[0;34m[\u001b[0m\u001b[0;34m~\u001b[0m\u001b[0mmask\u001b[0m\u001b[0;34m]\u001b[0m\u001b[0;34m\u001b[0m\u001b[0m\n\u001b[1;32m   4967\u001b[0m         \u001b[0;32mreturn\u001b[0m \u001b[0mself\u001b[0m\u001b[0;34m.\u001b[0m\u001b[0mdelete\u001b[0m\u001b[0;34m(\u001b[0m\u001b[0mindexer\u001b[0m\u001b[0;34m)\u001b[0m\u001b[0;34m\u001b[0m\u001b[0m\n",
      "\u001b[0;31mKeyError\u001b[0m: \"['Place' 'AssembledDate' 'StatusText' 'VehicleReg' 'CustomerName'\\n 'AddonDate' 'Package' 'Make' 'GearType' 'Gender' 'Address' 'VehicleType'\\n 'FuelType' 'BrakeOperation'] not found in axis\""
     ]
    }
   ],
   "source": [
    "insurance.drop(['Place','AssembledDate','StatusText','VehicleReg','CustomerName','AddonDate','Package','Make','GearType','Gender','Address','VehicleType','FuelType','BrakeOperation'],axis=1,inplace=True)"
   ]
  },
  {
   "cell_type": "code",
   "execution_count": 11,
   "metadata": {},
   "outputs": [
    {
     "data": {
      "text/html": [
       "<div>\n",
       "<style scoped>\n",
       "    .dataframe tbody tr th:only-of-type {\n",
       "        vertical-align: middle;\n",
       "    }\n",
       "\n",
       "    .dataframe tbody tr th {\n",
       "        vertical-align: top;\n",
       "    }\n",
       "\n",
       "    .dataframe thead th {\n",
       "        text-align: right;\n",
       "    }\n",
       "</style>\n",
       "<table border=\"1\" class=\"dataframe\">\n",
       "  <thead>\n",
       "    <tr style=\"text-align: right;\">\n",
       "      <th></th>\n",
       "      <th>Premium</th>\n",
       "      <th>Model</th>\n",
       "      <th>CC</th>\n",
       "      <th>VehicleWidth</th>\n",
       "      <th>VehicleHeight</th>\n",
       "      <th>AvgFuelConsumption</th>\n",
       "      <th>Speed</th>\n",
       "      <th>Odo</th>\n",
       "      <th>BrakeOperation_n</th>\n",
       "      <th>FuelType_n</th>\n",
       "      <th>...</th>\n",
       "      <th>Gender_n</th>\n",
       "      <th>GearType_n</th>\n",
       "      <th>Make_n</th>\n",
       "      <th>AddonDate_n</th>\n",
       "      <th>Package_n</th>\n",
       "      <th>CustomerName_n</th>\n",
       "      <th>VehicleReg_n</th>\n",
       "      <th>StatusText_n</th>\n",
       "      <th>AssembledDate_n</th>\n",
       "      <th>Place_n</th>\n",
       "    </tr>\n",
       "  </thead>\n",
       "  <tbody>\n",
       "    <tr>\n",
       "      <th>0</th>\n",
       "      <td>34000</td>\n",
       "      <td>2016</td>\n",
       "      <td>1300</td>\n",
       "      <td>5</td>\n",
       "      <td>3</td>\n",
       "      <td>11</td>\n",
       "      <td>27</td>\n",
       "      <td>97.8</td>\n",
       "      <td>0</td>\n",
       "      <td>1</td>\n",
       "      <td>...</td>\n",
       "      <td>1</td>\n",
       "      <td>0</td>\n",
       "      <td>0</td>\n",
       "      <td>22</td>\n",
       "      <td>0</td>\n",
       "      <td>18</td>\n",
       "      <td>18</td>\n",
       "      <td>0</td>\n",
       "      <td>2899</td>\n",
       "      <td>14117</td>\n",
       "    </tr>\n",
       "    <tr>\n",
       "      <th>1</th>\n",
       "      <td>34000</td>\n",
       "      <td>2016</td>\n",
       "      <td>1300</td>\n",
       "      <td>5</td>\n",
       "      <td>3</td>\n",
       "      <td>11</td>\n",
       "      <td>26</td>\n",
       "      <td>97.8</td>\n",
       "      <td>0</td>\n",
       "      <td>1</td>\n",
       "      <td>...</td>\n",
       "      <td>1</td>\n",
       "      <td>0</td>\n",
       "      <td>0</td>\n",
       "      <td>22</td>\n",
       "      <td>0</td>\n",
       "      <td>18</td>\n",
       "      <td>18</td>\n",
       "      <td>16</td>\n",
       "      <td>2899</td>\n",
       "      <td>14187</td>\n",
       "    </tr>\n",
       "    <tr>\n",
       "      <th>2</th>\n",
       "      <td>34000</td>\n",
       "      <td>2016</td>\n",
       "      <td>1300</td>\n",
       "      <td>5</td>\n",
       "      <td>3</td>\n",
       "      <td>11</td>\n",
       "      <td>22</td>\n",
       "      <td>97.9</td>\n",
       "      <td>0</td>\n",
       "      <td>1</td>\n",
       "      <td>...</td>\n",
       "      <td>1</td>\n",
       "      <td>0</td>\n",
       "      <td>0</td>\n",
       "      <td>22</td>\n",
       "      <td>0</td>\n",
       "      <td>18</td>\n",
       "      <td>18</td>\n",
       "      <td>16</td>\n",
       "      <td>2899</td>\n",
       "      <td>14381</td>\n",
       "    </tr>\n",
       "    <tr>\n",
       "      <th>3</th>\n",
       "      <td>34000</td>\n",
       "      <td>2016</td>\n",
       "      <td>1300</td>\n",
       "      <td>5</td>\n",
       "      <td>3</td>\n",
       "      <td>11</td>\n",
       "      <td>18</td>\n",
       "      <td>98.0</td>\n",
       "      <td>0</td>\n",
       "      <td>1</td>\n",
       "      <td>...</td>\n",
       "      <td>1</td>\n",
       "      <td>0</td>\n",
       "      <td>0</td>\n",
       "      <td>22</td>\n",
       "      <td>0</td>\n",
       "      <td>18</td>\n",
       "      <td>18</td>\n",
       "      <td>16</td>\n",
       "      <td>2899</td>\n",
       "      <td>14553</td>\n",
       "    </tr>\n",
       "    <tr>\n",
       "      <th>4</th>\n",
       "      <td>34000</td>\n",
       "      <td>2016</td>\n",
       "      <td>1300</td>\n",
       "      <td>5</td>\n",
       "      <td>3</td>\n",
       "      <td>11</td>\n",
       "      <td>22</td>\n",
       "      <td>98.0</td>\n",
       "      <td>0</td>\n",
       "      <td>1</td>\n",
       "      <td>...</td>\n",
       "      <td>1</td>\n",
       "      <td>0</td>\n",
       "      <td>0</td>\n",
       "      <td>22</td>\n",
       "      <td>0</td>\n",
       "      <td>18</td>\n",
       "      <td>18</td>\n",
       "      <td>16</td>\n",
       "      <td>2899</td>\n",
       "      <td>14672</td>\n",
       "    </tr>\n",
       "  </tbody>\n",
       "</table>\n",
       "<p>5 rows × 22 columns</p>\n",
       "</div>"
      ],
      "text/plain": [
       "   Premium  Model    CC  VehicleWidth  VehicleHeight  AvgFuelConsumption  \\\n",
       "0    34000   2016  1300             5              3                  11   \n",
       "1    34000   2016  1300             5              3                  11   \n",
       "2    34000   2016  1300             5              3                  11   \n",
       "3    34000   2016  1300             5              3                  11   \n",
       "4    34000   2016  1300             5              3                  11   \n",
       "\n",
       "   Speed   Odo  BrakeOperation_n  FuelType_n  ...  Gender_n  GearType_n  \\\n",
       "0     27  97.8                 0           1  ...         1           0   \n",
       "1     26  97.8                 0           1  ...         1           0   \n",
       "2     22  97.9                 0           1  ...         1           0   \n",
       "3     18  98.0                 0           1  ...         1           0   \n",
       "4     22  98.0                 0           1  ...         1           0   \n",
       "\n",
       "   Make_n  AddonDate_n  Package_n  CustomerName_n  VehicleReg_n  StatusText_n  \\\n",
       "0       0           22          0              18            18             0   \n",
       "1       0           22          0              18            18            16   \n",
       "2       0           22          0              18            18            16   \n",
       "3       0           22          0              18            18            16   \n",
       "4       0           22          0              18            18            16   \n",
       "\n",
       "   AssembledDate_n  Place_n  \n",
       "0             2899    14117  \n",
       "1             2899    14187  \n",
       "2             2899    14381  \n",
       "3             2899    14553  \n",
       "4             2899    14672  \n",
       "\n",
       "[5 rows x 22 columns]"
      ]
     },
     "execution_count": 11,
     "metadata": {},
     "output_type": "execute_result"
    }
   ],
   "source": [
    "insurance.head()"
   ]
  },
  {
   "cell_type": "code",
   "execution_count": 12,
   "metadata": {},
   "outputs": [
    {
     "name": "stdout",
     "output_type": "stream",
     "text": [
      "<class 'pandas.core.frame.DataFrame'>\n",
      "RangeIndex: 75000 entries, 0 to 74999\n",
      "Data columns (total 22 columns):\n",
      "Premium               75000 non-null int64\n",
      "Model                 75000 non-null int64\n",
      "CC                    75000 non-null int64\n",
      "VehicleWidth          75000 non-null int64\n",
      "VehicleHeight         75000 non-null int64\n",
      "AvgFuelConsumption    75000 non-null int64\n",
      "Speed                 75000 non-null int64\n",
      "Odo                   75000 non-null float64\n",
      "BrakeOperation_n      75000 non-null int64\n",
      "FuelType_n            75000 non-null int64\n",
      "VehicleType_n         75000 non-null int64\n",
      "Address_n             75000 non-null int64\n",
      "Gender_n              75000 non-null int64\n",
      "GearType_n            75000 non-null int64\n",
      "Make_n                75000 non-null int64\n",
      "AddonDate_n           75000 non-null int64\n",
      "Package_n             75000 non-null int64\n",
      "CustomerName_n        75000 non-null int64\n",
      "VehicleReg_n          75000 non-null int64\n",
      "StatusText_n          75000 non-null int64\n",
      "AssembledDate_n       75000 non-null int64\n",
      "Place_n               75000 non-null int64\n",
      "dtypes: float64(1), int64(21)\n",
      "memory usage: 12.6 MB\n"
     ]
    }
   ],
   "source": [
    "insurance.info()"
   ]
  },
  {
   "cell_type": "code",
   "execution_count": 13,
   "metadata": {},
   "outputs": [],
   "source": [
    "X = insurance.drop(['CustomerName_n','Premium'],axis=1)"
   ]
  },
  {
   "cell_type": "code",
   "execution_count": 14,
   "metadata": {},
   "outputs": [
    {
     "name": "stdout",
     "output_type": "stream",
     "text": [
      "<class 'pandas.core.frame.DataFrame'>\n",
      "RangeIndex: 75000 entries, 0 to 74999\n",
      "Data columns (total 20 columns):\n",
      "Model                 75000 non-null int64\n",
      "CC                    75000 non-null int64\n",
      "VehicleWidth          75000 non-null int64\n",
      "VehicleHeight         75000 non-null int64\n",
      "AvgFuelConsumption    75000 non-null int64\n",
      "Speed                 75000 non-null int64\n",
      "Odo                   75000 non-null float64\n",
      "BrakeOperation_n      75000 non-null int64\n",
      "FuelType_n            75000 non-null int64\n",
      "VehicleType_n         75000 non-null int64\n",
      "Address_n             75000 non-null int64\n",
      "Gender_n              75000 non-null int64\n",
      "GearType_n            75000 non-null int64\n",
      "Make_n                75000 non-null int64\n",
      "AddonDate_n           75000 non-null int64\n",
      "Package_n             75000 non-null int64\n",
      "VehicleReg_n          75000 non-null int64\n",
      "StatusText_n          75000 non-null int64\n",
      "AssembledDate_n       75000 non-null int64\n",
      "Place_n               75000 non-null int64\n",
      "dtypes: float64(1), int64(19)\n",
      "memory usage: 11.4 MB\n"
     ]
    }
   ],
   "source": [
    "X.info()"
   ]
  },
  {
   "cell_type": "code",
   "execution_count": 15,
   "metadata": {},
   "outputs": [],
   "source": [
    "y = insurance['Premium']"
   ]
  },
  {
   "cell_type": "code",
   "execution_count": 16,
   "metadata": {},
   "outputs": [
    {
     "data": {
      "text/plain": [
       "0    34000\n",
       "1    34000\n",
       "2    34000\n",
       "3    34000\n",
       "4    34000\n",
       "Name: Premium, dtype: int64"
      ]
     },
     "execution_count": 16,
     "metadata": {},
     "output_type": "execute_result"
    }
   ],
   "source": [
    "y.head()"
   ]
  },
  {
   "cell_type": "code",
   "execution_count": 17,
   "metadata": {},
   "outputs": [],
   "source": [
    "from sklearn.model_selection  import train_test_split\n",
    "X_train, X_test, y_train, y_test = train_test_split(X, y, test_size=0.2, random_state=0)"
   ]
  },
  {
   "cell_type": "markdown",
   "metadata": {},
   "source": [
    "# PCA with 2 compnents"
   ]
  },
  {
   "cell_type": "code",
   "execution_count": 18,
   "metadata": {},
   "outputs": [],
   "source": [
    "from sklearn.decomposition import PCA"
   ]
  },
  {
   "cell_type": "code",
   "execution_count": 19,
   "metadata": {},
   "outputs": [],
   "source": [
    "pca = PCA(n_components=2)"
   ]
  },
  {
   "cell_type": "code",
   "execution_count": 20,
   "metadata": {},
   "outputs": [
    {
     "data": {
      "text/plain": [
       "PCA(copy=True, iterated_power='auto', n_components=2, random_state=None,\n",
       "    svd_solver='auto', tol=0.0, whiten=False)"
      ]
     },
     "execution_count": 20,
     "metadata": {},
     "output_type": "execute_result"
    }
   ],
   "source": [
    "pca.fit(X_train)"
   ]
  },
  {
   "cell_type": "code",
   "execution_count": 21,
   "metadata": {},
   "outputs": [],
   "source": [
    "x_pca = pca.transform(X_train)"
   ]
  },
  {
   "cell_type": "code",
   "execution_count": 22,
   "metadata": {},
   "outputs": [
    {
     "data": {
      "text/plain": [
       "array([[-11916.68261683,  -2213.06322721],\n",
       "       [ -5303.46935977,   -274.38990574],\n",
       "       [ 13328.3202155 ,    547.66180424],\n",
       "       ...,\n",
       "       [ -9406.26363812,   2586.82262439],\n",
       "       [ 11125.12837423,  -1413.72300746],\n",
       "       [ -9614.98741726,    -40.03587394]])"
      ]
     },
     "execution_count": 22,
     "metadata": {},
     "output_type": "execute_result"
    }
   ],
   "source": [
    "x_pca"
   ]
  },
  {
   "cell_type": "code",
   "execution_count": 23,
   "metadata": {},
   "outputs": [
    {
     "data": {
      "text/plain": [
       "(60000, 2)"
      ]
     },
     "execution_count": 23,
     "metadata": {},
     "output_type": "execute_result"
    }
   ],
   "source": [
    "x_pca.shape"
   ]
  },
  {
   "cell_type": "code",
   "execution_count": 24,
   "metadata": {},
   "outputs": [
    {
     "data": {
      "text/plain": [
       "array([[-9.63381460e-06,  3.83634577e-04,  2.96771235e-06,\n",
       "         1.78062741e-06,  2.15843045e-06, -2.83638959e-04,\n",
       "         1.72103601e-04,  0.00000000e+00,  7.19476816e-07,\n",
       "         7.19476816e-07,  7.19476816e-07, -4.16312023e-06,\n",
       "         7.67269153e-07, -2.58867105e-06,  1.71451969e-04,\n",
       "         7.67269153e-07, -1.84886715e-05,  1.22418671e-04,\n",
       "         1.68532895e-02, -9.99857822e-01],\n",
       "       [ 4.26958407e-05,  7.93345313e-03, -7.29504595e-05,\n",
       "        -4.37702757e-05,  2.03953582e-06, -3.02479111e-04,\n",
       "        -8.74647157e-05, -0.00000000e+00,  6.79845274e-07,\n",
       "         6.79845274e-07,  6.79845274e-07,  1.08377804e-05,\n",
       "         1.58669063e-05,  4.00917827e-06, -1.16880356e-03,\n",
       "         1.58669063e-05, -5.50265238e-04, -3.59864668e-04,\n",
       "        -9.99825602e-01, -1.68498667e-02]])"
      ]
     },
     "execution_count": 24,
     "metadata": {},
     "output_type": "execute_result"
    }
   ],
   "source": [
    "pca.components_"
   ]
  },
  {
   "cell_type": "code",
   "execution_count": 25,
   "metadata": {},
   "outputs": [],
   "source": [
    "df_comp = pd.DataFrame(pca.components_ ,columns=X_train.columns)"
   ]
  },
  {
   "cell_type": "code",
   "execution_count": 26,
   "metadata": {},
   "outputs": [
    {
     "data": {
      "text/html": [
       "<div>\n",
       "<style scoped>\n",
       "    .dataframe tbody tr th:only-of-type {\n",
       "        vertical-align: middle;\n",
       "    }\n",
       "\n",
       "    .dataframe tbody tr th {\n",
       "        vertical-align: top;\n",
       "    }\n",
       "\n",
       "    .dataframe thead th {\n",
       "        text-align: right;\n",
       "    }\n",
       "</style>\n",
       "<table border=\"1\" class=\"dataframe\">\n",
       "  <thead>\n",
       "    <tr style=\"text-align: right;\">\n",
       "      <th></th>\n",
       "      <th>Model</th>\n",
       "      <th>CC</th>\n",
       "      <th>VehicleWidth</th>\n",
       "      <th>VehicleHeight</th>\n",
       "      <th>AvgFuelConsumption</th>\n",
       "      <th>Speed</th>\n",
       "      <th>Odo</th>\n",
       "      <th>BrakeOperation_n</th>\n",
       "      <th>FuelType_n</th>\n",
       "      <th>VehicleType_n</th>\n",
       "      <th>Address_n</th>\n",
       "      <th>Gender_n</th>\n",
       "      <th>GearType_n</th>\n",
       "      <th>Make_n</th>\n",
       "      <th>AddonDate_n</th>\n",
       "      <th>Package_n</th>\n",
       "      <th>VehicleReg_n</th>\n",
       "      <th>StatusText_n</th>\n",
       "      <th>AssembledDate_n</th>\n",
       "      <th>Place_n</th>\n",
       "    </tr>\n",
       "  </thead>\n",
       "  <tbody>\n",
       "    <tr>\n",
       "      <th>0</th>\n",
       "      <td>-0.000010</td>\n",
       "      <td>0.000384</td>\n",
       "      <td>0.000003</td>\n",
       "      <td>0.000002</td>\n",
       "      <td>0.000002</td>\n",
       "      <td>-0.000284</td>\n",
       "      <td>0.000172</td>\n",
       "      <td>0.0</td>\n",
       "      <td>7.194768e-07</td>\n",
       "      <td>7.194768e-07</td>\n",
       "      <td>7.194768e-07</td>\n",
       "      <td>-0.000004</td>\n",
       "      <td>7.672692e-07</td>\n",
       "      <td>-0.000003</td>\n",
       "      <td>0.000171</td>\n",
       "      <td>7.672692e-07</td>\n",
       "      <td>-0.000018</td>\n",
       "      <td>0.000122</td>\n",
       "      <td>0.016853</td>\n",
       "      <td>-0.999858</td>\n",
       "    </tr>\n",
       "    <tr>\n",
       "      <th>1</th>\n",
       "      <td>0.000043</td>\n",
       "      <td>0.007933</td>\n",
       "      <td>-0.000073</td>\n",
       "      <td>-0.000044</td>\n",
       "      <td>0.000002</td>\n",
       "      <td>-0.000302</td>\n",
       "      <td>-0.000087</td>\n",
       "      <td>-0.0</td>\n",
       "      <td>6.798453e-07</td>\n",
       "      <td>6.798453e-07</td>\n",
       "      <td>6.798453e-07</td>\n",
       "      <td>0.000011</td>\n",
       "      <td>1.586691e-05</td>\n",
       "      <td>0.000004</td>\n",
       "      <td>-0.001169</td>\n",
       "      <td>1.586691e-05</td>\n",
       "      <td>-0.000550</td>\n",
       "      <td>-0.000360</td>\n",
       "      <td>-0.999826</td>\n",
       "      <td>-0.016850</td>\n",
       "    </tr>\n",
       "  </tbody>\n",
       "</table>\n",
       "</div>"
      ],
      "text/plain": [
       "      Model        CC  VehicleWidth  VehicleHeight  AvgFuelConsumption  \\\n",
       "0 -0.000010  0.000384      0.000003       0.000002            0.000002   \n",
       "1  0.000043  0.007933     -0.000073      -0.000044            0.000002   \n",
       "\n",
       "      Speed       Odo  BrakeOperation_n    FuelType_n  VehicleType_n  \\\n",
       "0 -0.000284  0.000172               0.0  7.194768e-07   7.194768e-07   \n",
       "1 -0.000302 -0.000087              -0.0  6.798453e-07   6.798453e-07   \n",
       "\n",
       "      Address_n  Gender_n    GearType_n    Make_n  AddonDate_n     Package_n  \\\n",
       "0  7.194768e-07 -0.000004  7.672692e-07 -0.000003     0.000171  7.672692e-07   \n",
       "1  6.798453e-07  0.000011  1.586691e-05  0.000004    -0.001169  1.586691e-05   \n",
       "\n",
       "   VehicleReg_n  StatusText_n  AssembledDate_n   Place_n  \n",
       "0     -0.000018      0.000122         0.016853 -0.999858  \n",
       "1     -0.000550     -0.000360        -0.999826 -0.016850  "
      ]
     },
     "execution_count": 26,
     "metadata": {},
     "output_type": "execute_result"
    }
   ],
   "source": [
    "df_comp.head()"
   ]
  },
  {
   "cell_type": "code",
   "execution_count": 27,
   "metadata": {},
   "outputs": [],
   "source": [
    "pca_2 = PCA(0.98)"
   ]
  },
  {
   "cell_type": "code",
   "execution_count": 28,
   "metadata": {},
   "outputs": [
    {
     "data": {
      "text/plain": [
       "PCA(copy=True, iterated_power='auto', n_components=0.98, random_state=None,\n",
       "    svd_solver='auto', tol=0.0, whiten=False)"
      ]
     },
     "execution_count": 28,
     "metadata": {},
     "output_type": "execute_result"
    }
   ],
   "source": [
    "pca_2.fit(X_train)\n",
    "\n"
   ]
  },
  {
   "cell_type": "code",
   "execution_count": 35,
   "metadata": {},
   "outputs": [],
   "source": [
    "x_pca_train =pca_2.transform(X_train)\n",
    "x_pca_test = pca_2.transform(X_test)"
   ]
  },
  {
   "cell_type": "code",
   "execution_count": 36,
   "metadata": {},
   "outputs": [],
   "source": [
    "df_comp = pd.DataFrame(pca_2.components_ ,columns=X_train.columns)"
   ]
  },
  {
   "cell_type": "code",
   "execution_count": 37,
   "metadata": {},
   "outputs": [
    {
     "data": {
      "text/html": [
       "<div>\n",
       "<style scoped>\n",
       "    .dataframe tbody tr th:only-of-type {\n",
       "        vertical-align: middle;\n",
       "    }\n",
       "\n",
       "    .dataframe tbody tr th {\n",
       "        vertical-align: top;\n",
       "    }\n",
       "\n",
       "    .dataframe thead th {\n",
       "        text-align: right;\n",
       "    }\n",
       "</style>\n",
       "<table border=\"1\" class=\"dataframe\">\n",
       "  <thead>\n",
       "    <tr style=\"text-align: right;\">\n",
       "      <th></th>\n",
       "      <th>Model</th>\n",
       "      <th>CC</th>\n",
       "      <th>VehicleWidth</th>\n",
       "      <th>VehicleHeight</th>\n",
       "      <th>AvgFuelConsumption</th>\n",
       "      <th>Speed</th>\n",
       "      <th>Odo</th>\n",
       "      <th>BrakeOperation_n</th>\n",
       "      <th>FuelType_n</th>\n",
       "      <th>VehicleType_n</th>\n",
       "      <th>Address_n</th>\n",
       "      <th>Gender_n</th>\n",
       "      <th>GearType_n</th>\n",
       "      <th>Make_n</th>\n",
       "      <th>AddonDate_n</th>\n",
       "      <th>Package_n</th>\n",
       "      <th>VehicleReg_n</th>\n",
       "      <th>StatusText_n</th>\n",
       "      <th>AssembledDate_n</th>\n",
       "      <th>Place_n</th>\n",
       "    </tr>\n",
       "  </thead>\n",
       "  <tbody>\n",
       "    <tr>\n",
       "      <th>0</th>\n",
       "      <td>-0.000010</td>\n",
       "      <td>0.000384</td>\n",
       "      <td>0.000003</td>\n",
       "      <td>0.000002</td>\n",
       "      <td>0.000002</td>\n",
       "      <td>-0.000284</td>\n",
       "      <td>0.000172</td>\n",
       "      <td>-0.0</td>\n",
       "      <td>7.194768e-07</td>\n",
       "      <td>7.194768e-07</td>\n",
       "      <td>7.194768e-07</td>\n",
       "      <td>-0.000004</td>\n",
       "      <td>7.672692e-07</td>\n",
       "      <td>-0.000003</td>\n",
       "      <td>0.000171</td>\n",
       "      <td>7.672692e-07</td>\n",
       "      <td>-0.000018</td>\n",
       "      <td>0.000122</td>\n",
       "      <td>0.016853</td>\n",
       "      <td>-0.999858</td>\n",
       "    </tr>\n",
       "    <tr>\n",
       "      <th>1</th>\n",
       "      <td>0.000043</td>\n",
       "      <td>0.007933</td>\n",
       "      <td>-0.000073</td>\n",
       "      <td>-0.000044</td>\n",
       "      <td>0.000002</td>\n",
       "      <td>-0.000302</td>\n",
       "      <td>-0.000087</td>\n",
       "      <td>-0.0</td>\n",
       "      <td>6.798453e-07</td>\n",
       "      <td>6.798453e-07</td>\n",
       "      <td>6.798453e-07</td>\n",
       "      <td>0.000011</td>\n",
       "      <td>1.586691e-05</td>\n",
       "      <td>0.000004</td>\n",
       "      <td>-0.001169</td>\n",
       "      <td>1.586691e-05</td>\n",
       "      <td>-0.000550</td>\n",
       "      <td>-0.000360</td>\n",
       "      <td>-0.999826</td>\n",
       "      <td>-0.016850</td>\n",
       "    </tr>\n",
       "  </tbody>\n",
       "</table>\n",
       "</div>"
      ],
      "text/plain": [
       "      Model        CC  VehicleWidth  VehicleHeight  AvgFuelConsumption  \\\n",
       "0 -0.000010  0.000384      0.000003       0.000002            0.000002   \n",
       "1  0.000043  0.007933     -0.000073      -0.000044            0.000002   \n",
       "\n",
       "      Speed       Odo  BrakeOperation_n    FuelType_n  VehicleType_n  \\\n",
       "0 -0.000284  0.000172              -0.0  7.194768e-07   7.194768e-07   \n",
       "1 -0.000302 -0.000087              -0.0  6.798453e-07   6.798453e-07   \n",
       "\n",
       "      Address_n  Gender_n    GearType_n    Make_n  AddonDate_n     Package_n  \\\n",
       "0  7.194768e-07 -0.000004  7.672692e-07 -0.000003     0.000171  7.672692e-07   \n",
       "1  6.798453e-07  0.000011  1.586691e-05  0.000004    -0.001169  1.586691e-05   \n",
       "\n",
       "   VehicleReg_n  StatusText_n  AssembledDate_n   Place_n  \n",
       "0     -0.000018      0.000122         0.016853 -0.999858  \n",
       "1     -0.000550     -0.000360        -0.999826 -0.016850  "
      ]
     },
     "execution_count": 37,
     "metadata": {},
     "output_type": "execute_result"
    }
   ],
   "source": [
    "df_comp.head()"
   ]
  },
  {
   "cell_type": "code",
   "execution_count": 38,
   "metadata": {},
   "outputs": [],
   "source": [
    "import seaborn as sns "
   ]
  },
  {
   "cell_type": "code",
   "execution_count": 39,
   "metadata": {},
   "outputs": [
    {
     "data": {
      "text/plain": [
       "<matplotlib.axes._subplots.AxesSubplot at 0x7f7088818be0>"
      ]
     },
     "execution_count": 39,
     "metadata": {},
     "output_type": "execute_result"
    },
    {
     "data": {
      "image/png": "[encoded data removed]",
      "text/plain": [
       "<Figure size 864x432 with 2 Axes>"
      ]
     },
     "metadata": {
      "needs_background": "light"
     },
     "output_type": "display_data"
    }
   ],
   "source": [
    "plt.figure(figsize=(12,6))\n",
    "sns.heatmap(df_comp)\n"
   ]
  },
  {
   "cell_type": "markdown",
   "metadata": {},
   "source": [
    "# Decision Tree"
   ]
  },
  {
   "cell_type": "code",
   "execution_count": 40,
   "metadata": {},
   "outputs": [],
   "source": [
    "from sklearn.tree import DecisionTreeClassifier"
   ]
  },
  {
   "cell_type": "code",
   "execution_count": 41,
   "metadata": {},
   "outputs": [],
   "source": [
    "dtree = DecisionTreeClassifier()"
   ]
  },
  {
   "cell_type": "code",
   "execution_count": 42,
   "metadata": {},
   "outputs": [
    {
     "data": {
      "text/plain": [
       "DecisionTreeClassifier(class_weight=None, criterion='gini', max_depth=None,\n",
       "                       max_features=None, max_leaf_nodes=None,\n",
       "                       min_impurity_decrease=0.0, min_impurity_split=None,\n",
       "                       min_samples_leaf=1, min_samples_split=2,\n",
       "                       min_weight_fraction_leaf=0.0, presort=False,\n",
       "                       random_state=None, splitter='best')"
      ]
     },
     "execution_count": 42,
     "metadata": {},
     "output_type": "execute_result"
    }
   ],
   "source": [
    "dtree.fit(x_pca_train,y_train)"
   ]
  },
  {
   "cell_type": "code",
   "execution_count": 43,
   "metadata": {},
   "outputs": [],
   "source": [
    "pred = dtree.predict(x_pca_test)"
   ]
  },
  {
   "cell_type": "code",
   "execution_count": 44,
   "metadata": {},
   "outputs": [
    {
     "data": {
      "text/plain": [
       "array([34000, 34000, 54000, ..., 34000, 34000, 34000])"
      ]
     },
     "execution_count": 44,
     "metadata": {},
     "output_type": "execute_result"
    }
   ],
   "source": [
    "pred"
   ]
  },
  {
   "cell_type": "code",
   "execution_count": 45,
   "metadata": {},
   "outputs": [],
   "source": [
    "from sklearn.metrics import classification_report,confusion_matrix"
   ]
  },
  {
   "cell_type": "code",
   "execution_count": 46,
   "metadata": {},
   "outputs": [],
   "source": [
    "matric = confusion_matrix(y_test,pred)"
   ]
  },
  {
   "cell_type": "code",
   "execution_count": 48,
   "metadata": {},
   "outputs": [
    {
     "data": {
      "text/plain": [
       "<matplotlib.axes._subplots.AxesSubplot at 0x7f7087e65198>"
      ]
     },
     "execution_count": 48,
     "metadata": {},
     "output_type": "execute_result"
    },
    {
     "data": {
      "image/png": "[encoded data removed]",
      "text/plain": [
       "<Figure size 432x288 with 2 Axes>"
      ]
     },
     "metadata": {
      "needs_background": "light"
     },
     "output_type": "display_data"
    }
   ],
   "source": [
    "sns.heatmap(matric,annot=True)"
   ]
  },
  {
   "cell_type": "code",
   "execution_count": 77,
   "metadata": {},
   "outputs": [],
   "source": [
    "report = classification_report(y_test,pred)"
   ]
  },
  {
   "cell_type": "code",
   "execution_count": 78,
   "metadata": {},
   "outputs": [
    {
     "name": "stdout",
     "output_type": "stream",
     "text": [
      "[[13780   256]\n",
      " [  336   628]]\n"
     ]
    }
   ],
   "source": [
    "print(matric)"
   ]
  },
  {
   "cell_type": "code",
   "execution_count": 79,
   "metadata": {},
   "outputs": [
    {
     "name": "stdout",
     "output_type": "stream",
     "text": [
      "              precision    recall  f1-score   support\n",
      "\n",
      "       34000       0.98      0.98      0.98     14036\n",
      "       54000       0.71      0.65      0.68       964\n",
      "\n",
      "   micro avg       0.96      0.96      0.96     15000\n",
      "   macro avg       0.84      0.82      0.83     15000\n",
      "weighted avg       0.96      0.96      0.96     15000\n",
      "\n"
     ]
    }
   ],
   "source": [
    "print(report)"
   ]
  },
  {
   "cell_type": "markdown",
   "metadata": {},
   "source": [
    "# Parameter tunning "
   ]
  },
  {
   "cell_type": "code",
   "execution_count": 49,
   "metadata": {},
   "outputs": [],
   "source": [
    "from scipy.stats import randint\n",
    "from sklearn.tree import DecisionTreeClassifier\n",
    "from sklearn.model_selection import RandomizedSearchCV\n",
    "from sklearn.model_selection import KFold"
   ]
  },
  {
   "cell_type": "code",
   "execution_count": 50,
   "metadata": {},
   "outputs": [],
   "source": [
    "param_dist={\"max_depth\":randint(3,10),\n",
    "             \"min_samples_leaf\":randint(1,9),\n",
    "              \"criterion\":[\"gini\",\"entropy\"]}"
   ]
  },
  {
   "cell_type": "code",
   "execution_count": 51,
   "metadata": {},
   "outputs": [],
   "source": [
    "tree2 = DecisionTreeClassifier()"
   ]
  },
  {
   "cell_type": "code",
   "execution_count": 52,
   "metadata": {},
   "outputs": [
    {
     "data": {
      "text/plain": [
       "RandomizedSearchCV(cv=10, error_score='raise-deprecating',\n",
       "                   estimator=DecisionTreeClassifier(class_weight=None,\n",
       "                                                    criterion='gini',\n",
       "                                                    max_depth=None,\n",
       "                                                    max_features=None,\n",
       "                                                    max_leaf_nodes=None,\n",
       "                                                    min_impurity_decrease=0.0,\n",
       "                                                    min_impurity_split=None,\n",
       "                                                    min_samples_leaf=1,\n",
       "                                                    min_samples_split=2,\n",
       "                                                    min_weight_fraction_leaf=0.0,\n",
       "                                                    presort=False,\n",
       "                                                    random_state=None,\n",
       "                                                    splitter='best'),\n",
       "                   iid='warn', n_iter=10, n_jobs=None,\n",
       "                   param_distributions={'criterion': ['gini', 'entropy'],\n",
       "                                        'max_depth': <scipy.stats._distn_infrastructure.rv_frozen object at 0x7f7087f400f0>,\n",
       "                                        'min_samples_leaf': <scipy.stats._distn_infrastructure.rv_frozen object at 0x7f7087f547b8>},\n",
       "                   pre_dispatch='2*n_jobs', random_state=0, refit=True,\n",
       "                   return_train_score=False, scoring=None, verbose=0)"
      ]
     },
     "execution_count": 52,
     "metadata": {},
     "output_type": "execute_result"
    }
   ],
   "source": [
    "tree_cv=RandomizedSearchCV(tree2,param_dist,cv=10,random_state=0)\n",
    "tree_cv.fit(x_pca_train,y_train)"
   ]
  },
  {
   "cell_type": "code",
   "execution_count": 53,
   "metadata": {},
   "outputs": [
    {
     "data": {
      "text/plain": [
       "{'criterion': 'entropy', 'max_depth': 9, 'min_samples_leaf': 1}"
      ]
     },
     "execution_count": 53,
     "metadata": {},
     "output_type": "execute_result"
    }
   ],
   "source": [
    "tree_cv.best_params_"
   ]
  },
  {
   "cell_type": "code",
   "execution_count": 54,
   "metadata": {},
   "outputs": [
    {
     "data": {
      "text/plain": [
       "DecisionTreeClassifier(class_weight=None, criterion='entropy', max_depth=9,\n",
       "                       max_features=None, max_leaf_nodes=None,\n",
       "                       min_impurity_decrease=0.0, min_impurity_split=None,\n",
       "                       min_samples_leaf=1, min_samples_split=2,\n",
       "                       min_weight_fraction_leaf=0.0, presort=False,\n",
       "                       random_state=None, splitter='best')"
      ]
     },
     "execution_count": 54,
     "metadata": {},
     "output_type": "execute_result"
    }
   ],
   "source": [
    "tree_cv.best_estimator_"
   ]
  },
  {
   "cell_type": "code",
   "execution_count": 55,
   "metadata": {},
   "outputs": [],
   "source": [
    "cv_pred = tree_cv.predict(x_pca_test)"
   ]
  },
  {
   "cell_type": "code",
   "execution_count": 56,
   "metadata": {},
   "outputs": [
    {
     "data": {
      "text/plain": [
       "array([34000, 34000, 34000, ..., 34000, 34000, 34000])"
      ]
     },
     "execution_count": 56,
     "metadata": {},
     "output_type": "execute_result"
    }
   ],
   "source": [
    "cv_pred"
   ]
  },
  {
   "cell_type": "code",
   "execution_count": 57,
   "metadata": {},
   "outputs": [],
   "source": [
    "cv_matric = confusion_matrix(y_test,cv_pred)"
   ]
  },
  {
   "cell_type": "code",
   "execution_count": 58,
   "metadata": {},
   "outputs": [
    {
     "data": {
      "text/plain": [
       "<matplotlib.axes._subplots.AxesSubplot at 0x7f7087fda2b0>"
      ]
     },
     "execution_count": 58,
     "metadata": {},
     "output_type": "execute_result"
    },
    {
     "data": {
      "image/png": "[encoded data removed]",
      "text/plain": [
       "<Figure size 432x288 with 2 Axes>"
      ]
     },
     "metadata": {
      "needs_background": "light"
     },
     "output_type": "display_data"
    }
   ],
   "source": [
    "sns.heatmap(cv_matric,annot=True)"
   ]
  },
  {
   "cell_type": "code",
   "execution_count": 106,
   "metadata": {},
   "outputs": [
    {
     "name": "stdout",
     "output_type": "stream",
     "text": [
      "Confusion matrics with best parameters are \n",
      "\n",
      "\n",
      "[[13907   129]\n",
      " [  585   379]]\n"
     ]
    }
   ],
   "source": [
    "print(\"Confusion matrics with best parameters are \")\n",
    "print(\"\\n\")\n",
    "print(cv_matric)"
   ]
  },
  {
   "cell_type": "code",
   "execution_count": 107,
   "metadata": {},
   "outputs": [],
   "source": [
    "cv_report = classification_report(y_test,cv_pred)"
   ]
  },
  {
   "cell_type": "code",
   "execution_count": 108,
   "metadata": {},
   "outputs": [
    {
     "name": "stdout",
     "output_type": "stream",
     "text": [
      "Classification report with best parameters is\n",
      "\n",
      "\n",
      "              precision    recall  f1-score   support\n",
      "\n",
      "       34000       0.96      0.99      0.97     14036\n",
      "       54000       0.75      0.39      0.51       964\n",
      "\n",
      "   micro avg       0.95      0.95      0.95     15000\n",
      "   macro avg       0.85      0.69      0.74     15000\n",
      "weighted avg       0.95      0.95      0.95     15000\n",
      "\n"
     ]
    }
   ],
   "source": [
    "print(\"Classification report with best parameters is\")\n",
    "print(\"\\n\")\n",
    "print(cv_report)"
   ]
  },
  {
   "cell_type": "code",
   "execution_count": null,
   "metadata": {},
   "outputs": [],
   "source": []
  }
 ],
 "metadata": {
  "kernelspec": {
   "display_name": "Python 3",
   "language": "python",
   "name": "python3"
  },
  "language_info": {
   "codemirror_mode": {
    "name": "ipython",
    "version": 3
   },
   "file_extension": ".py",
   "mimetype": "text/x-python",
   "name": "python",
   "nbconvert_exporter": "python",
   "pygments_lexer": "ipython3",
   "version": "3.7.1"
  }
 },
 "nbformat": 4,
 "nbformat_minor": 2
}
